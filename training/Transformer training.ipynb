{
 "cells": [
  {
   "cell_type": "markdown",
   "metadata": {},
   "source": [
    "## Training for distilbert transformer\n",
    "Follow this tutorial :https://huggingface.co/transformers/custom_datasets.html"
   ]
  },
  {
   "cell_type": "code",
   "execution_count": 1,
   "metadata": {},
   "outputs": [],
   "source": [
    "import pandas as pd \n",
    "from transformers import DistilBertTokenizerFast, Trainer, TrainingArguments, DistilBertForSequenceClassification, AdamW, DistilBertConfig\n",
    "from sklearn.metrics import precision_score,classification_report,confusion_matrix,roc_curve, auc\n",
    "from sklearn.preprocessing import label_binarize\n",
    "from torch.nn.functional import softmax\n",
    "from torch.nn import CrossEntropyLoss\n",
    "import torch\n",
    "from tqdm import tqdm\n",
    "from torch.utils.data import DataLoader\n",
    "from transformer_utils import customDataset\n",
    "from torch.utils.tensorboard import SummaryWriter\n",
    "import seaborn as sns\n",
    "import matplotlib.pyplot as plt\n",
    "from pathlib import Path\n",
    "import numpy as np\n"
   ]
  },
  {
   "cell_type": "code",
   "execution_count": 2,
   "metadata": {},
   "outputs": [],
   "source": [
    "train_file = \"../data/label_data.csv\"\n",
    "test_file = \"../data/label_data.csv\"\n",
    "LABEL_COL = \"class\"\n",
    "TEXT_COL = \"comment\""
   ]
  },
  {
   "cell_type": "markdown",
   "metadata": {},
   "source": [
    "## Utilities functions"
   ]
  },
  {
   "cell_type": "code",
   "execution_count": 3,
   "metadata": {},
   "outputs": [],
   "source": [
    "def read_data(fname:str, lower_case: bool=False) ->pd.DataFrame:\n",
    "        \"\"\"\n",
    "        This function will read the textfiles.\n",
    "\n",
    "        fname will be out of new_train_data.csv, unlabeled_data.csv and test_data.txt\n",
    "\n",
    "        \"\"\"\n",
    "        try:\n",
    "            df = pd.read_csv(fname, encoding = \"UTF-8\", usecols = [\"class\",\"comment\"])\n",
    "            df[LABEL_COL]= df[LABEL_COL].replace({\"negative\":0, \"neutral\":1, \"positive\":2})\n",
    "            if lower_case:\n",
    "                df[TEXT_COL]= df[TEXT_COL].str.lower()\n",
    "\n",
    "            return df\n",
    "        except (FileNotFoundError,PermissionError):\n",
    "\n",
    "            print(\"No files found. Check the data directory for files.\")"
   ]
  },
  {
   "cell_type": "code",
   "execution_count": 4,
   "metadata": {},
   "outputs": [],
   "source": [
    "def compute_metrics(pred):\n",
    "    labels = pred.label_ids\n",
    "    preds = pred.predictions.argmax(-1)\n",
    "    precision, recall, f1, _ = precision_recall_fscore_support(labels, preds, average='macro')\n",
    "    acc = accuracy_score(labels, preds)\n",
    "    return {\n",
    "        'accuracy': acc,\n",
    "        'f1': f1,\n",
    "        'precision': precision,\n",
    "        'recall': recall}"
   ]
  },
  {
   "cell_type": "markdown",
   "metadata": {},
   "source": [
    "## Load pretrained models and tokenizer"
   ]
  },
  {
   "cell_type": "code",
   "execution_count": 5,
   "metadata": {},
   "outputs": [
    {
     "data": {
      "text/plain": [
       "device(type='cuda', index=0)"
      ]
     },
     "execution_count": 5,
     "metadata": {},
     "output_type": "execute_result"
    }
   ],
   "source": [
    "device = torch.device(\"cuda:0\" if torch.cuda.is_available else \"cpu\")\n",
    "device"
   ]
  },
  {
   "cell_type": "markdown",
   "metadata": {},
   "source": [
    "## Fine-tuning on custom data with basic transformer parameters"
   ]
  },
  {
   "cell_type": "code",
   "execution_count": 6,
   "metadata": {},
   "outputs": [],
   "source": [
    "train_df = read_data(train_file, lower_case = True)\n",
    "labels = train_df[LABEL_COL].values"
   ]
  },
  {
   "cell_type": "code",
   "execution_count": 7,
   "metadata": {},
   "outputs": [
    {
     "data": {
      "text/plain": [
       "2    0.778333\n",
       "0    0.120000\n",
       "1    0.101667\n",
       "Name: class, dtype: float64"
      ]
     },
     "execution_count": 7,
     "metadata": {},
     "output_type": "execute_result"
    }
   ],
   "source": [
    "train_df[\"class\"].value_counts(normalize = True)"
   ]
  },
  {
   "cell_type": "code",
   "execution_count": 8,
   "metadata": {},
   "outputs": [
    {
     "data": {
      "text/plain": [
       "0      2\n",
       "1      1\n",
       "2      2\n",
       "3      2\n",
       "4      1\n",
       "      ..\n",
       "595    2\n",
       "596    0\n",
       "597    2\n",
       "598    2\n",
       "599    2\n",
       "Name: class, Length: 600, dtype: int64"
      ]
     },
     "execution_count": 8,
     "metadata": {},
     "output_type": "execute_result"
    }
   ],
   "source": [
    "train_df[\"class\"]"
   ]
  },
  {
   "cell_type": "code",
   "execution_count": 9,
   "metadata": {},
   "outputs": [],
   "source": [
    "from sklearn.model_selection import train_test_split\n",
    "train_texts, val_texts, train_labels, val_labels = train_test_split(train_df[TEXT_COL].values, labels, test_size=.2,random_state = 42)"
   ]
  },
  {
   "cell_type": "code",
   "execution_count": 10,
   "metadata": {},
   "outputs": [],
   "source": [
    "train_texts= train_texts.tolist()\n",
    "val_texts = val_texts.tolist()\n",
    "# train_labels = train_labels.values\n",
    "# val_labels = val_labels.values"
   ]
  },
  {
   "cell_type": "code",
   "execution_count": 11,
   "metadata": {},
   "outputs": [
    {
     "name": "stderr",
     "output_type": "stream",
     "text": [
      "Some weights of the model checkpoint at distilbert-base-uncased were not used when initializing DistilBertForSequenceClassification: ['vocab_transform.weight', 'vocab_transform.bias', 'vocab_layer_norm.weight', 'vocab_layer_norm.bias', 'vocab_projector.weight', 'vocab_projector.bias']\n",
      "- This IS expected if you are initializing DistilBertForSequenceClassification from the checkpoint of a model trained on another task or with another architecture (e.g. initializing a BertForSequenceClassification model from a BertForPreTraining model).\n",
      "- This IS NOT expected if you are initializing DistilBertForSequenceClassification from the checkpoint of a model that you expect to be exactly identical (initializing a BertForSequenceClassification model from a BertForSequenceClassification model).\n",
      "Some weights of DistilBertForSequenceClassification were not initialized from the model checkpoint at distilbert-base-uncased and are newly initialized: ['pre_classifier.weight', 'pre_classifier.bias', 'classifier.weight', 'classifier.bias']\n",
      "You should probably TRAIN this model on a down-stream task to be able to use it for predictions and inference.\n"
     ]
    }
   ],
   "source": [
    "model = DistilBertForSequenceClassification.from_pretrained(\"distilbert-base-uncased\",num_labels = 3)\n",
    "\n"
   ]
  },
  {
   "cell_type": "code",
   "execution_count": 12,
   "metadata": {},
   "outputs": [],
   "source": [
    "tokenizer = DistilBertTokenizerFast.from_pretrained(\"distilbert-base-uncased\")"
   ]
  },
  {
   "cell_type": "markdown",
   "metadata": {},
   "source": [
    "## Tokenize the training and test text \n"
   ]
  },
  {
   "cell_type": "code",
   "execution_count": 13,
   "metadata": {},
   "outputs": [],
   "source": [
    "train_encodings = tokenizer(train_texts, truncation=True, padding=True)\n",
    "val_encodings = tokenizer(val_texts, truncation=True, padding=True)\n",
    "#test_encodings = tokenizer(test_texts, truncation=True, padding=True)"
   ]
  },
  {
   "cell_type": "markdown",
   "metadata": {},
   "source": [
    "## Turn the tokenized encodings and labels to Dataset obj in pytorch\n"
   ]
  },
  {
   "cell_type": "code",
   "execution_count": 14,
   "metadata": {},
   "outputs": [],
   "source": [
    "train_dataset = customDataset(train_encodings, train_labels)\n",
    "val_dataset = customDataset(val_encodings,val_labels)"
   ]
  },
  {
   "cell_type": "markdown",
   "metadata": {},
   "source": [
    "## Pass dataset to dataloader to help us batch our dataset "
   ]
  },
  {
   "cell_type": "code",
   "execution_count": 15,
   "metadata": {},
   "outputs": [],
   "source": [
    "train_loader = DataLoader(train_dataset, batch_size = 16, shuffle = True)\n",
    "val_loader = DataLoader(val_dataset, batch_size = 16, shuffle = True)"
   ]
  },
  {
   "cell_type": "markdown",
   "metadata": {},
   "source": [
    "## Train with trainer"
   ]
  },
  {
   "cell_type": "code",
   "execution_count": null,
   "metadata": {},
   "outputs": [],
   "source": [
    "# training argument to be defined outside of class? \n",
    "# for together with arg_parse? \n",
    "training_args = TrainingArguments(\n",
    "    output_dir='./results',          # output directory\n",
    "    num_train_epochs=10,              # total # of training epochs\n",
    "    per_device_train_batch_size=16,  # batch size per device during training\n",
    "    per_device_eval_batch_size=64,   # batch size for evaluation\n",
    "    warmup_steps=50,                # number of warmup steps for learning rate scheduler\n",
    "    weight_decay=0.01,               # strength of weight decay\n",
    "    logging_dir='./logs',            # directory for storing logs\n",
    "    logging_steps = 20,\n",
    "    no_cuda = True\n",
    "    \n",
    ")"
   ]
  },
  {
   "cell_type": "code",
   "execution_count": null,
   "metadata": {},
   "outputs": [],
   "source": [
    "epochs=5        # total # of training epochs\n",
    "per_device_train_batch_size=16  # batch size per device during training\n",
    "per_device_eval_batch_size=64   # batch size for evaluation\n",
    "warmup_steps=50                # number of warmup steps for learning rate scheduler\n",
    "weight_decay=0.05"
   ]
  },
  {
   "cell_type": "code",
   "execution_count": null,
   "metadata": {},
   "outputs": [],
   "source": [
    "# trainer = Trainer(model = model,\n",
    "#                    args = training_args,\n",
    "#                    train_dataset = train_dataset, \n",
    "#                    eval_dataset = val_dataset,\n",
    "#                     compute_metrics = compute_metrics)\n",
    "# trainer.train()"
   ]
  },
  {
   "cell_type": "markdown",
   "metadata": {},
   "source": [
    "## Custom training in pytorch "
   ]
  },
  {
   "cell_type": "code",
   "execution_count": 16,
   "metadata": {},
   "outputs": [
    {
     "name": "stderr",
     "output_type": "stream",
     "text": [
      "Some weights of the model checkpoint at distilbert-base-uncased were not used when initializing DistilBertForSequenceClassification: ['vocab_transform.weight', 'vocab_transform.bias', 'vocab_layer_norm.weight', 'vocab_layer_norm.bias', 'vocab_projector.weight', 'vocab_projector.bias']\n",
      "- This IS expected if you are initializing DistilBertForSequenceClassification from the checkpoint of a model trained on another task or with another architecture (e.g. initializing a BertForSequenceClassification model from a BertForPreTraining model).\n",
      "- This IS NOT expected if you are initializing DistilBertForSequenceClassification from the checkpoint of a model that you expect to be exactly identical (initializing a BertForSequenceClassification model from a BertForSequenceClassification model).\n",
      "Some weights of DistilBertForSequenceClassification were not initialized from the model checkpoint at distilbert-base-uncased and are newly initialized: ['pre_classifier.weight', 'pre_classifier.bias', 'classifier.weight', 'classifier.bias']\n",
      "You should probably TRAIN this model on a down-stream task to be able to use it for predictions and inference.\n"
     ]
    }
   ],
   "source": [
    "def train_model(model = DistilBertForSequenceClassification.from_pretrained(\"distilbert-base-uncased\",num_labels = 3),\n",
    "                train_loader= train_loader, \n",
    "                val_loader= val_loader,\n",
    "                optimizer = AdamW(model.parameters(), lr = 5e-5),\n",
    "                num_epochs = 5,\n",
    "                criterion = CrossEntropyLoss(),\n",
    "                writer = SummaryWriter(\"logs/distilbert/baselines\")):\n",
    "\n",
    "    # for training data set \n",
    "    running_loss = 0 \n",
    "    running_correct = 0\n",
    "\n",
    "    # number of steps within each epoch for training loader\n",
    "    training_iterations = len(train_loader)\n",
    "\n",
    "    # for val data set \n",
    "    val_running_loss = 0 \n",
    "    val_running_correct = 0\n",
    "\n",
    "    # number of steps within each epoch for val laoder\n",
    "    val_iterations = len(val_loader)\n",
    "\n",
    "    # for each epoch\n",
    "    for epoch in range(num_epochs):\n",
    "\n",
    "        train_pred = np.array([])\n",
    "        val_pred = np.array([])\n",
    "\n",
    "        # train \n",
    "        # set the model to training mode (as oppose to evaluation mode)\n",
    "        model.train()\n",
    "\n",
    "\n",
    "        for step, batch in enumerate(train_loader):\n",
    "\n",
    "            batch[\"input_ids\"].to(device)\n",
    "            batch[\"attention_mask\"].to(device)\n",
    "            batch[\"labels\"].to(device)  \n",
    "\n",
    "            # zero grads \n",
    "\n",
    "            optimizer.zero_grad()\n",
    "\n",
    "            # forward pass \n",
    "            outputs = model(batch[\"input_ids\"],batch[\"attention_mask\"], labels = batch[\"labels\"])\n",
    "\n",
    "            # get logits from model output\n",
    "            logits = outputs[\"logits\"]\n",
    "            # logits must be float64, so need to use .double()\n",
    "            # labels must be long\n",
    "            \n",
    "            loss = criterion(logits.double(),batch[\"labels\"])\n",
    "            \n",
    "            # backward pass\n",
    "            loss.backward()\n",
    "            # update weights \n",
    "\n",
    "            optimizer.step()\n",
    "\n",
    "            # update learning rate\n",
    "            running_loss += loss.item()\n",
    "\n",
    "            predicted_labels = torch.argmax(logits, dim = 1)\n",
    "\n",
    "            # only capture the prediction of the last step in last epoch\n",
    "            train_pred = np.append(train_pred,predicted_labels.cpu().numpy())\n",
    "            precision_avg_score= precision_score(batch[\"labels\"], predicted_labels, average = \"macro\")\n",
    "\n",
    "            running_correct += precision_avg_score\n",
    "    #         if (step + 1)% 10 == 0: \n",
    "    #             print(f\"Epoch: {epoch+1}, step {step+1}/{num_examples}, Loss: {loss.item()}, running_loss: {running_loss/100},Acc: {acc}\")\n",
    "\n",
    "    #==============================================\n",
    "    # validation set\n",
    "    #==============================================\n",
    "        model.eval()\n",
    "\n",
    "\n",
    "        for step, val_batch in enumerate(val_loader):\n",
    "\n",
    "            val_batch[\"input_ids\"].to(device)\n",
    "            val_batch[\"attention_mask\"].to(device)\n",
    "            val_batch[\"labels\"].to(device)  \n",
    "\n",
    "            # zero grads \n",
    "\n",
    "            optimizer.zero_grad()\n",
    "\n",
    "            with torch.no_grad():\n",
    "\n",
    "                val_outputs = model(val_batch[\"input_ids\"],val_batch[\"attention_mask\"], labels = val_batch[\"labels\"])\n",
    "                # get loss \n",
    "\n",
    "                # get logist from model output\n",
    "                val_logits = val_outputs[\"logits\"]\n",
    "\n",
    "                val_loss = criterion(val_logits.double(),val_batch[\"labels\"])\n",
    "\n",
    "                val_predicted_labels = torch.argmax(val_logits, dim = 1)\n",
    "\n",
    "                # only capture the prediction of the last step in last epoch\n",
    "                val_pred = np.append(val_pred,val_predicted_labels.cpu().numpy())\n",
    "                val_running_loss += val_loss\n",
    "\n",
    "                val_precision_avg_score= precision_score(val_batch[\"labels\"], val_predicted_labels, average = \"macro\")\n",
    "\n",
    "                val_running_correct += val_precision_avg_score\n",
    "        # accumulate the loss and accuracy for each epoch \n",
    "\n",
    "        print(f\"Epoch: {epoch+1},train_Loss: {running_loss/training_iterations},train_acc: {running_correct/training_iterations}\")\n",
    "        print(f\"Epoch: {epoch+1},val_Loss: {val_running_loss/val_iterations},val_acc: {val_running_correct/val_iterations}\")\n",
    "        writer.add_scalars(\"Loss curve\", {\"train loss\":running_loss/training_iterations,\"val loss\":val_running_loss/val_iterations}, global_step = epoch + 1)\n",
    "        writer.add_scalars(\"Precision Score curve\",{\"train precision\":running_correct/training_iterations,\"val precision\":val_running_correct/val_iterations}, global_step = epoch + 1)\n",
    "\n",
    "\n",
    "        running_loss = 0 \n",
    "        running_correct = 0\n",
    "\n",
    "        val_running_loss = 0 \n",
    "        val_running_correct = 0\n",
    "\n",
    "    writer.close()\n"
   ]
  },
  {
   "cell_type": "code",
   "execution_count": 18,
   "metadata": {},
   "outputs": [
    {
     "name": "stderr",
     "output_type": "stream",
     "text": [
      "Some weights of the model checkpoint at distilbert-base-uncased were not used when initializing DistilBertForSequenceClassification: ['vocab_transform.weight', 'vocab_transform.bias', 'vocab_layer_norm.weight', 'vocab_layer_norm.bias', 'vocab_projector.weight', 'vocab_projector.bias']\n",
      "- This IS expected if you are initializing DistilBertForSequenceClassification from the checkpoint of a model trained on another task or with another architecture (e.g. initializing a BertForSequenceClassification model from a BertForPreTraining model).\n",
      "- This IS NOT expected if you are initializing DistilBertForSequenceClassification from the checkpoint of a model that you expect to be exactly identical (initializing a BertForSequenceClassification model from a BertForSequenceClassification model).\n",
      "Some weights of DistilBertForSequenceClassification were not initialized from the model checkpoint at distilbert-base-uncased and are newly initialized: ['pre_classifier.weight', 'pre_classifier.bias', 'classifier.weight', 'classifier.bias']\n",
      "You should probably TRAIN this model on a down-stream task to be able to use it for predictions and inference.\n",
      "C:\\Users\\ong_j\\anaconda3\\envs\\sentiment-torch-gpu\\lib\\site-packages\\sklearn\\metrics\\_classification.py:1221: UndefinedMetricWarning: Precision is ill-defined and being set to 0.0 in labels with no predicted samples. Use `zero_division` parameter to control this behavior.\n",
      "  _warn_prf(average, modifier, msg_start, len(result))\n"
     ]
    },
    {
     "name": "stdout",
     "output_type": "stream",
     "text": [
      "Epoch: 1,train_Loss: 1.0977797773709301,train_acc: 0.29208353375020046\n",
      "Epoch: 1,val_Loss: 1.0889577711979592,val_acc: 0.32796601546601545\n"
     ]
    }
   ],
   "source": [
    "train_model(model = DistilBertForSequenceClassification.from_pretrained(\"distilbert-base-uncased\",num_labels = 3),\n",
    "            train_loader= train_loader, \n",
    "            val_loader= val_loader,\n",
    "            optimizer= AdamW(model.parameters(), lr = 5e-5),\n",
    "            num_epochs = 1,\n",
    "            criterion = CrossEntropyLoss(),\n",
    "            writer = SummaryWriter(\"logs/distilbert/test\"))"
   ]
  },
  {
   "cell_type": "code",
   "execution_count": null,
   "metadata": {},
   "outputs": [],
   "source": [
    "model.save_pretrained(\"../models/distilbert/test\")"
   ]
  },
  {
   "cell_type": "markdown",
   "metadata": {},
   "source": [
    "## Seems to be overfitting, increase the weight decay for adamW for regularization \n",
    "Default weight_decay = 0.01\n",
    "\n",
    "Try: weight_decay = 0.08 \n",
    "\n",
    "weight_decay = 0.5"
   ]
  },
  {
   "cell_type": "code",
   "execution_count": null,
   "metadata": {},
   "outputs": [],
   "source": [
    "model = DistilBertForSequenceClassification.from_pretrained(\"distilbert-base-uncased\",num_labels = 3)\n"
   ]
  },
  {
   "cell_type": "code",
   "execution_count": null,
   "metadata": {},
   "outputs": [],
   "source": [
    "train_model(model,\n",
    "            train_loader, \n",
    "            val_loader,\n",
    "            optimizer= AdamW(model.parameters(), lr = 5e-5, weight_decay = 0.08),\n",
    "            num_epochs = 20,\n",
    "            criterion = CrossEntropyLoss(),\n",
    "            writer = SummaryWriter(\"logs/distilbert/weight_decay=0.08\"))"
   ]
  },
  {
   "cell_type": "code",
   "execution_count": null,
   "metadata": {},
   "outputs": [],
   "source": [
    "model.save_pretrained(\"../models/distilbert/weight_decay=0.08\")"
   ]
  },
  {
   "cell_type": "code",
   "execution_count": null,
   "metadata": {},
   "outputs": [],
   "source": [
    "model = DistilBertForSequenceClassification.from_pretrained(\"distilbert-base-uncased\",num_labels = 3)\n"
   ]
  },
  {
   "cell_type": "code",
   "execution_count": null,
   "metadata": {},
   "outputs": [],
   "source": [
    "train_model(model,\n",
    "            train_loader, \n",
    "            val_loader,\n",
    "            optimizer= AdamW(model.parameters(), lr = 5e-5, weight_decay = 0.5),\n",
    "            num_epochs = 15,\n",
    "            criterion = CrossEntropyLoss(),\n",
    "            writer = SummaryWriter(\"logs/distilbert/weight_decay=0.5\"))"
   ]
  },
  {
   "cell_type": "code",
   "execution_count": null,
   "metadata": {},
   "outputs": [],
   "source": [
    "model.save_pretrained(\"../models/distilbert/weight_decay=0.5\")"
   ]
  },
  {
   "cell_type": "markdown",
   "metadata": {},
   "source": [
    "## Because the dataset is imbalanced, it is not doing so well for minority classes.\n",
    "\n",
    "One way to improve performance for imbalanced dataset is to adjust weights for the classes during model training. \n",
    "\n",
    "Add in the adjusted class weights into the cross entropy loss function during model training. "
   ]
  },
  {
   "cell_type": "code",
   "execution_count": null,
   "metadata": {},
   "outputs": [],
   "source": [
    "train_df[\"class\"].value_counts()"
   ]
  },
  {
   "cell_type": "code",
   "execution_count": null,
   "metadata": {},
   "outputs": [],
   "source": [
    "no_samples_class_2, no_samples_class_0, no_samples_class_1= train_df[\"class\"].value_counts().values"
   ]
  },
  {
   "cell_type": "markdown",
   "metadata": {},
   "source": [
    "## Formula for adjusting weights"
   ]
  },
  {
   "cell_type": "code",
   "execution_count": null,
   "metadata": {},
   "outputs": [],
   "source": [
    "def cal_class_weights(no_samples_for_class, total_samples, no_of_class):\n",
    "\n",
    "    class_weight = total_samples/(no_of_class * no_samples_for_class)\n",
    "    return class_weight"
   ]
  },
  {
   "cell_type": "code",
   "execution_count": null,
   "metadata": {},
   "outputs": [],
   "source": [
    "weights_class_2 = cal_class_weights(no_samples_class_2,train_df.shape[0], 3)"
   ]
  },
  {
   "cell_type": "code",
   "execution_count": null,
   "metadata": {},
   "outputs": [],
   "source": [
    "weights_class_0 = cal_class_weights(no_samples_class_0,train_df.shape[0], 3)"
   ]
  },
  {
   "cell_type": "code",
   "execution_count": null,
   "metadata": {},
   "outputs": [],
   "source": [
    "weights_class_1 = cal_class_weights(no_samples_class_1,train_df.shape[0], 3)"
   ]
  },
  {
   "cell_type": "markdown",
   "metadata": {},
   "source": [
    "## Weights passed to cross entropy loss will be inn order from 0 to num_classes"
   ]
  },
  {
   "cell_type": "code",
   "execution_count": null,
   "metadata": {},
   "outputs": [],
   "source": [
    "weights = [weights_class_0,weights_class_1,weights_class_2] \n",
    "tensor_weights= torch.tensor(weights)"
   ]
  },
  {
   "cell_type": "code",
   "execution_count": null,
   "metadata": {},
   "outputs": [],
   "source": [
    "model = DistilBertForSequenceClassification.from_pretrained(\"distilbert-base-uncased\",num_labels = 3)\n",
    "\n",
    "\n",
    "\n",
    "tokenizer = DistilBertTokenizerFast.from_pretrained(\"distilbert-base-uncased\")"
   ]
  },
  {
   "cell_type": "code",
   "execution_count": null,
   "metadata": {},
   "outputs": [],
   "source": [
    "train_model(model,\n",
    "            train_loader, \n",
    "            val_loader,\n",
    "            optimizer= AdamW(model.parameters(), lr = 5e-5),\n",
    "            num_epochs = 20,\n",
    "            criterion = CrossEntropyLoss(weight = tensor_weights),\n",
    "            writer = SummaryWriter(\"logs/distilbert/adjust_weights\"))"
   ]
  },
  {
   "cell_type": "code",
   "execution_count": null,
   "metadata": {},
   "outputs": [],
   "source": [
    "model.save_pretrained(\"../models/distilbert/adjust_weights\")"
   ]
  },
  {
   "cell_type": "markdown",
   "metadata": {},
   "source": [
    "## Combining weight decay and adjusting weights for imbalanced class"
   ]
  },
  {
   "cell_type": "code",
   "execution_count": null,
   "metadata": {},
   "outputs": [],
   "source": [
    "train_model(model,\n",
    "            train_loader, \n",
    "            val_loader,\n",
    "            optimizer= AdamW(model.parameters(), lr = 5e-5,weight_decay = 0.5),\n",
    "            num_epochs = 15,\n",
    "            criterion = CrossEntropyLoss(weight = tensor_weights),\n",
    "            writer = SummaryWriter(\"logs/distilbert/decay_0_5_adjust_weights\"))"
   ]
  },
  {
   "cell_type": "code",
   "execution_count": null,
   "metadata": {},
   "outputs": [],
   "source": [
    "model.save_pretrained(\"../models/distilbert/adjust_weights_weight_decay=0.5\")"
   ]
  },
  {
   "cell_type": "code",
   "execution_count": 23,
   "metadata": {},
   "outputs": [],
   "source": [
    "def get_prediction(model= model,\n",
    "                  test_loader= val_loader):\n",
    "\n",
    "    prediction = np.array([])\n",
    "    true = np.array([])\n",
    "    probability = np.array([])\n",
    "    for step, val_batch in enumerate(test_loader):\n",
    "\n",
    "        val_batch[\"input_ids\"].to(device)\n",
    "        val_batch[\"attention_mask\"].to(device)\n",
    "        val_batch[\"labels\"].to(device)  \n",
    "\n",
    "        # zero grads \n",
    "\n",
    "        with torch.no_grad():\n",
    "\n",
    "            outputs = model(val_batch[\"input_ids\"],val_batch[\"attention_mask\"], labels = val_batch[\"labels\"])\n",
    "            # get loss \n",
    "            loss = outputs[\"loss\"]\n",
    "\n",
    "            # get logist from model output\n",
    "            logits = outputs[\"logits\"]\n",
    "            \n",
    "            #s\n",
    "            class_proba = softmax(logits,dim = 1)\n",
    "            predicted_labels = torch.argmax(logits, dim = 1)\n",
    "            \n",
    "            probability = np.append(probability, class_proba.cpu().numpy())\n",
    "\n",
    "            prediction = np.append(prediction,predicted_labels.cpu().numpy())\n",
    "            true= np.append(true,val_batch[\"labels\"])\n",
    "\n",
    "        #print(predicted_labels.cpu().numpy())\n",
    "    return true, prediction,probability"
   ]
  },
  {
   "cell_type": "code",
   "execution_count": 24,
   "metadata": {},
   "outputs": [],
   "source": [
    "def get_classification_report(model = model,\n",
    "                              test_loader =val_loader):\n",
    "    \n",
    "    true, prediction,probability = get_prediction(model = model ,test_loader =val_loader)\n",
    "    print(classification_report(true,prediction))"
   ]
  },
  {
   "cell_type": "code",
   "execution_count": null,
   "metadata": {},
   "outputs": [],
   "source": [
    "print(\"no_custom_train\")\n",
    "get_classification_report(model = DistilBertForSequenceClassification.from_pretrained(\"distilbert-base-uncased\",num_labels = 3),\n",
    "                     test_loader = val_loader)"
   ]
  },
  {
   "cell_type": "code",
   "execution_count": null,
   "metadata": {},
   "outputs": [],
   "source": [
    "print(\"overfit\")\n",
    "print(classification_report(overfit_true, overfit_pred))"
   ]
  },
  {
   "cell_type": "code",
   "execution_count": null,
   "metadata": {},
   "outputs": [],
   "source": [
    "print(\"Adjust_class_weights\")\n",
    "get_classification_report(model = DistilBertForSequenceClassification.from_pretrained(\"../models/distilbert/adjust_weights\"),\n",
    "                     test_loader = val_loader)"
   ]
  },
  {
   "cell_type": "code",
   "execution_count": null,
   "metadata": {},
   "outputs": [],
   "source": [
    "print(\"baseline\")\n",
    "get_classification_report(model = DistilBertForSequenceClassification.from_pretrained(\"../models/distilbert/baseline\"),\n",
    "                     test_loader = val_loader)"
   ]
  },
  {
   "cell_type": "code",
   "execution_count": null,
   "metadata": {},
   "outputs": [],
   "source": [
    "print(\"decay_point_5\")\n",
    "get_classification_report(model = DistilBertForSequenceClassification.from_pretrained(\"../models/distilbert/weight_decay=0.5\"),\n",
    "                     test_loader = val_loader)"
   ]
  },
  {
   "cell_type": "code",
   "execution_count": null,
   "metadata": {},
   "outputs": [],
   "source": [
    "print(\"decay_point_zero_8\")\n",
    "get_classification_report(model = DistilBertForSequenceClassification.from_pretrained(\"../models/distilbert/weight_decay=0.08\"),\n",
    "                     test_loader = val_loader)"
   ]
  },
  {
   "cell_type": "code",
   "execution_count": null,
   "metadata": {},
   "outputs": [],
   "source": [
    "print(\"decay and adjust weights\")\n",
    "\n",
    "get_classification_report(model = DistilBertForSequenceClassification.from_pretrained(\"../models/distilbert/adjust_weights_weight_decay=0.5\"),\n",
    "                     test_loader = val_loader)\n"
   ]
  },
  {
   "cell_type": "code",
   "execution_count": null,
   "metadata": {},
   "outputs": [],
   "source": [
    "def get_precision_score(model= model,\n",
    "                      test_loader= val_loader):\n",
    "    true, prediction,probability = get_prediction(model= model,\n",
    "                      test_loader= val_loader)\n",
    "\n",
    "    return precision_score(true, predicted, average = \"macro\")"
   ]
  },
  {
   "cell_type": "code",
   "execution_count": null,
   "metadata": {},
   "outputs": [],
   "source": [
    "def model_sort_precision_scores(model_list):\n",
    "    \n",
    "    \"\"\"\n",
    "    model_list: list of models\n",
    "    \"\"\"\n",
    "    model_name = [model.name for model in model_list]\n",
    "    precision_score = [get_precision_score(model = DistilBertForSequenceClassification.from_pretrained(model),\n",
    "                test_loader = val_loader) for model in model_list]\n",
    "    df_score = pd.DataFrame(zip(model_name,precision_score),columns = [\"model_name\",\"precision_score\"])\n",
    "    df_score.sort_values(by= \"precision_score\",ascending = False,inplace = True)\n",
    "    return df_score\n"
   ]
  },
  {
   "cell_type": "code",
   "execution_count": null,
   "metadata": {},
   "outputs": [],
   "source": [
    "def plot_confusion_matrix(model= model,\n",
    "                  test_loader= val_loader):\n",
    "    true, prediction,probability = get_prediction(model= model,\n",
    "                      test_loader= val_loader)\n",
    "    matrix = confusion_matrix(true, prediction,normalize = \"true\")\n",
    "    return matrix "
   ]
  },
  {
   "cell_type": "markdown",
   "metadata": {},
   "source": [
    "## Grab the directory of all the models within distilbert "
   ]
  },
  {
   "cell_type": "code",
   "execution_count": null,
   "metadata": {},
   "outputs": [],
   "source": [
    "distilbert_models  = Path(\"../models/distilbert\")"
   ]
  },
  {
   "cell_type": "code",
   "execution_count": null,
   "metadata": {},
   "outputs": [],
   "source": [
    "distilbert_model_list = [model for model in distilbert_models.iterdir() if model.is_dir()]"
   ]
  },
  {
   "cell_type": "markdown",
   "metadata": {},
   "source": [
    "## Sort the trained models by their macro precision scores"
   ]
  },
  {
   "cell_type": "code",
   "execution_count": null,
   "metadata": {},
   "outputs": [],
   "source": [
    "model_sort_precision_scores(distilbert_model_list)"
   ]
  },
  {
   "cell_type": "code",
   "execution_count": null,
   "metadata": {},
   "outputs": [],
   "source": [
    "fig,ax=plt.subplots(3,2,figsize = (12,10))\n",
    "# for model_path in subdir:\n",
    "#     i = 0\n",
    "#     j = 0\n",
    "#     cm = plot_confusion_matrix(model = str(model_path),\n",
    "#                          test_loader = val_loader)\n",
    "sns.heatmap(plot_confusion_matrix(model = DistilBertForSequenceClassification.from_pretrained(\"../models/distilbert/adjust_weights\"),\n",
    "            test_loader = val_loader), cmap=\"YlGnBu\",annot = True,ax = ax[0,0])\n",
    "sns.heatmap(plot_confusion_matrix(model = DistilBertForSequenceClassification.from_pretrained(\"../models/distilbert/adjust_weights_weight_decay=0.5\"),\n",
    "            test_loader = val_loader), cmap=\"YlGnBu\",annot = True,ax = ax[0,1])\n",
    "sns.heatmap(plot_confusion_matrix(model = DistilBertForSequenceClassification.from_pretrained(\"../models/distilbert/baseline\"),\n",
    "            test_loader = val_loader), cmap=\"YlGnBu\",annot = True,ax = ax[1,0])\n",
    "sns.heatmap(plot_confusion_matrix(model = DistilBertForSequenceClassification.from_pretrained(\"../models/distilbert/model_config\"),\n",
    "            test_loader = val_loader), cmap=\"YlGnBu\",annot = True,ax = ax[1,1])\n",
    "sns.heatmap(plot_confusion_matrix(model = DistilBertForSequenceClassification.from_pretrained(\"../models/distilbert/weight_decay=0.08\"),\n",
    "            test_loader = val_loader), cmap=\"YlGnBu\",annot = True,ax = ax[2,0])\n",
    "sns.heatmap(plot_confusion_matrix(model = DistilBertForSequenceClassification.from_pretrained(\"../models/distilbert/weight_decay=0.5\"),\n",
    "            test_loader = val_loader), cmap=\"YlGnBu\",annot = True,ax = ax[2,1])\n",
    "\n",
    "ax[0,0].set_title(\"adjust_weights\")\n",
    "ax[0,1].set_title(\"adjust_weights_weight_decay=0.5\")\n",
    "ax[1,0].set_title(\"baseline\")\n",
    "ax[1,1].set_title(\"model_config\")\n",
    "ax[2,0].set_title(\"weight_decay=0.08\")\n",
    "ax[2,1].set_title(\"weight_decay=0.5\")\n",
    "\n"
   ]
  },
  {
   "cell_type": "markdown",
   "metadata": {},
   "source": [
    "## Plotting the roc curve for classifier \n",
    "\n",
    "1) Compare roc plot between weight_decay = 0.5 and baseline "
   ]
  },
  {
   "cell_type": "code",
   "execution_count": 21,
   "metadata": {},
   "outputs": [],
   "source": [
    "def inputs_to_roc_curve(model = model,\n",
    "                  test_loader = val_loader,\n",
    "                    n_classes = 3):\n",
    "    \n",
    "    # compute roc curve and roc area for each class\n",
    "    fpr = dict()\n",
    "    tpr = dict()\n",
    "    roc_auc = dict()\n",
    "    \n",
    "    \n",
    "    true,predict,probability = get_prediction(model = model,\n",
    "                         test_loader = val_loader)\n",
    "    # true.shape = (n,) --> y_binarized_true.shape (n,n_classes)\n",
    "    \n",
    "    y_binarized_true = label_binarize(true, classes = list(range(n_classes)))\n",
    "    # probability.shape = (n * n_classes) --> y_score.shape = (n,n_classes)\n",
    "    y_score = probability.reshape(120,3)\n",
    "    \n",
    "    for i in range(n_classes):\n",
    "        fpr[i], tpr[i], _ = roc_curve(y_binarized_true[:,i],y_score[:,i])\n",
    "        roc_auc[i] = auc(fpr[i],tpr[i])\n",
    "    \n",
    "    return fpr, tpr, roc_auc\n",
    "    "
   ]
  },
  {
   "cell_type": "code",
   "execution_count": 52,
   "metadata": {},
   "outputs": [
    {
     "name": "stdout",
     "output_type": "stream",
     "text": [
      "weight decay 0.5\n",
      "              precision    recall  f1-score   support\n",
      "\n",
      "         0.0       0.95      1.00      0.97        19\n",
      "         1.0       1.00      0.82      0.90        11\n",
      "         2.0       0.99      1.00      0.99        90\n",
      "\n",
      "    accuracy                           0.98       120\n",
      "   macro avg       0.98      0.94      0.96       120\n",
      "weighted avg       0.98      0.98      0.98       120\n",
      "\n",
      "None\n"
     ]
    }
   ],
   "source": [
    "print(\"weight decay 0.5\")\n",
    "print(get_classification_report(model = DistilBertForSequenceClassification.from_pretrained(\"../models/distilbert/weight_decay=0.5\"),\n",
    "                     test_loader = val_loader))"
   ]
  },
  {
   "cell_type": "code",
   "execution_count": 82,
   "metadata": {},
   "outputs": [
    {
     "data": {
      "text/plain": [
       "DistilBertForSequenceClassification(\n",
       "  (distilbert): DistilBertModel(\n",
       "    (embeddings): Embeddings(\n",
       "      (word_embeddings): Embedding(30522, 768, padding_idx=0)\n",
       "      (position_embeddings): Embedding(512, 768)\n",
       "      (LayerNorm): LayerNorm((768,), eps=1e-12, elementwise_affine=True)\n",
       "      (dropout): Dropout(p=0.1, inplace=False)\n",
       "    )\n",
       "    (transformer): Transformer(\n",
       "      (layer): ModuleList(\n",
       "        (0): TransformerBlock(\n",
       "          (attention): MultiHeadSelfAttention(\n",
       "            (dropout): Dropout(p=0.1, inplace=False)\n",
       "            (q_lin): Linear(in_features=768, out_features=768, bias=True)\n",
       "            (k_lin): Linear(in_features=768, out_features=768, bias=True)\n",
       "            (v_lin): Linear(in_features=768, out_features=768, bias=True)\n",
       "            (out_lin): Linear(in_features=768, out_features=768, bias=True)\n",
       "          )\n",
       "          (sa_layer_norm): LayerNorm((768,), eps=1e-12, elementwise_affine=True)\n",
       "          (ffn): FFN(\n",
       "            (dropout): Dropout(p=0.1, inplace=False)\n",
       "            (lin1): Linear(in_features=768, out_features=3072, bias=True)\n",
       "            (lin2): Linear(in_features=3072, out_features=768, bias=True)\n",
       "          )\n",
       "          (output_layer_norm): LayerNorm((768,), eps=1e-12, elementwise_affine=True)\n",
       "        )\n",
       "        (1): TransformerBlock(\n",
       "          (attention): MultiHeadSelfAttention(\n",
       "            (dropout): Dropout(p=0.1, inplace=False)\n",
       "            (q_lin): Linear(in_features=768, out_features=768, bias=True)\n",
       "            (k_lin): Linear(in_features=768, out_features=768, bias=True)\n",
       "            (v_lin): Linear(in_features=768, out_features=768, bias=True)\n",
       "            (out_lin): Linear(in_features=768, out_features=768, bias=True)\n",
       "          )\n",
       "          (sa_layer_norm): LayerNorm((768,), eps=1e-12, elementwise_affine=True)\n",
       "          (ffn): FFN(\n",
       "            (dropout): Dropout(p=0.1, inplace=False)\n",
       "            (lin1): Linear(in_features=768, out_features=3072, bias=True)\n",
       "            (lin2): Linear(in_features=3072, out_features=768, bias=True)\n",
       "          )\n",
       "          (output_layer_norm): LayerNorm((768,), eps=1e-12, elementwise_affine=True)\n",
       "        )\n",
       "        (2): TransformerBlock(\n",
       "          (attention): MultiHeadSelfAttention(\n",
       "            (dropout): Dropout(p=0.1, inplace=False)\n",
       "            (q_lin): Linear(in_features=768, out_features=768, bias=True)\n",
       "            (k_lin): Linear(in_features=768, out_features=768, bias=True)\n",
       "            (v_lin): Linear(in_features=768, out_features=768, bias=True)\n",
       "            (out_lin): Linear(in_features=768, out_features=768, bias=True)\n",
       "          )\n",
       "          (sa_layer_norm): LayerNorm((768,), eps=1e-12, elementwise_affine=True)\n",
       "          (ffn): FFN(\n",
       "            (dropout): Dropout(p=0.1, inplace=False)\n",
       "            (lin1): Linear(in_features=768, out_features=3072, bias=True)\n",
       "            (lin2): Linear(in_features=3072, out_features=768, bias=True)\n",
       "          )\n",
       "          (output_layer_norm): LayerNorm((768,), eps=1e-12, elementwise_affine=True)\n",
       "        )\n",
       "        (3): TransformerBlock(\n",
       "          (attention): MultiHeadSelfAttention(\n",
       "            (dropout): Dropout(p=0.1, inplace=False)\n",
       "            (q_lin): Linear(in_features=768, out_features=768, bias=True)\n",
       "            (k_lin): Linear(in_features=768, out_features=768, bias=True)\n",
       "            (v_lin): Linear(in_features=768, out_features=768, bias=True)\n",
       "            (out_lin): Linear(in_features=768, out_features=768, bias=True)\n",
       "          )\n",
       "          (sa_layer_norm): LayerNorm((768,), eps=1e-12, elementwise_affine=True)\n",
       "          (ffn): FFN(\n",
       "            (dropout): Dropout(p=0.1, inplace=False)\n",
       "            (lin1): Linear(in_features=768, out_features=3072, bias=True)\n",
       "            (lin2): Linear(in_features=3072, out_features=768, bias=True)\n",
       "          )\n",
       "          (output_layer_norm): LayerNorm((768,), eps=1e-12, elementwise_affine=True)\n",
       "        )\n",
       "        (4): TransformerBlock(\n",
       "          (attention): MultiHeadSelfAttention(\n",
       "            (dropout): Dropout(p=0.1, inplace=False)\n",
       "            (q_lin): Linear(in_features=768, out_features=768, bias=True)\n",
       "            (k_lin): Linear(in_features=768, out_features=768, bias=True)\n",
       "            (v_lin): Linear(in_features=768, out_features=768, bias=True)\n",
       "            (out_lin): Linear(in_features=768, out_features=768, bias=True)\n",
       "          )\n",
       "          (sa_layer_norm): LayerNorm((768,), eps=1e-12, elementwise_affine=True)\n",
       "          (ffn): FFN(\n",
       "            (dropout): Dropout(p=0.1, inplace=False)\n",
       "            (lin1): Linear(in_features=768, out_features=3072, bias=True)\n",
       "            (lin2): Linear(in_features=3072, out_features=768, bias=True)\n",
       "          )\n",
       "          (output_layer_norm): LayerNorm((768,), eps=1e-12, elementwise_affine=True)\n",
       "        )\n",
       "        (5): TransformerBlock(\n",
       "          (attention): MultiHeadSelfAttention(\n",
       "            (dropout): Dropout(p=0.1, inplace=False)\n",
       "            (q_lin): Linear(in_features=768, out_features=768, bias=True)\n",
       "            (k_lin): Linear(in_features=768, out_features=768, bias=True)\n",
       "            (v_lin): Linear(in_features=768, out_features=768, bias=True)\n",
       "            (out_lin): Linear(in_features=768, out_features=768, bias=True)\n",
       "          )\n",
       "          (sa_layer_norm): LayerNorm((768,), eps=1e-12, elementwise_affine=True)\n",
       "          (ffn): FFN(\n",
       "            (dropout): Dropout(p=0.1, inplace=False)\n",
       "            (lin1): Linear(in_features=768, out_features=3072, bias=True)\n",
       "            (lin2): Linear(in_features=3072, out_features=768, bias=True)\n",
       "          )\n",
       "          (output_layer_norm): LayerNorm((768,), eps=1e-12, elementwise_affine=True)\n",
       "        )\n",
       "      )\n",
       "    )\n",
       "  )\n",
       "  (pre_classifier): Linear(in_features=768, out_features=768, bias=True)\n",
       "  (classifier): Linear(in_features=768, out_features=3, bias=True)\n",
       "  (dropout): Dropout(p=0.2, inplace=False)\n",
       ")"
      ]
     },
     "execution_count": 82,
     "metadata": {},
     "output_type": "execute_result"
    }
   ],
   "source": [
    "DistilBertForSequenceClassification.from_pretrained(\"../models/distilbert/baseline\")"
   ]
  },
  {
   "cell_type": "code",
   "execution_count": 74,
   "metadata": {},
   "outputs": [],
   "source": [
    "def plot_roc(row = 0, col = 0,\n",
    "             data_class = 0,\n",
    "             model= model, \n",
    "             test_loader = val_loader,\n",
    "             n_classes = 3,\n",
    "            model_name = \"baseline\"):\n",
    "    fpr, tpr, roc_auc= inputs_to_roc_curve(model = model,\n",
    "                          test_loader = val_loader,\n",
    "                            n_classes = 3)\n",
    "    lw = 2\n",
    "    ax[row,col].plot(fpr[data_class], tpr[data_class],color='darkorange',\n",
    "             lw=lw, label='ROC curve (area = %0.2f)' % roc_auc[data_class])\n",
    "    ax[row,col].plot([0, 1], [0, 1], color='navy', lw=lw, linestyle='--')\n",
    "\n",
    "    ax[row,col].set_xlim([0.0, 1.0])\n",
    "    ax[row,col].set_ylim([0.0, 1.05])\n",
    "    ax[row,col].set_xlabel('False Positive Rate')\n",
    "    ax[row,col].set_ylabel('True Positive Rate')\n",
    "    ax[row,col].set_title(f'{model_name} Class {data_class}')\n",
    "    ax[row,col].legend(loc=\"lower right\")"
   ]
  },
  {
   "cell_type": "code",
   "execution_count": 87,
   "metadata": {},
   "outputs": [
    {
     "data": {
      "image/png": "[encoded data removed]",
      "text/plain": [
       "<Figure size 864x720 with 6 Axes>"
      ]
     },
     "metadata": {
      "needs_background": "light"
     },
     "output_type": "display_data"
    }
   ],
   "source": [
    "fig,ax=plt.subplots(2,3,figsize = (12,10))\n",
    "plot_roc(row = 0, col = 0,\n",
    "         data_class = 0,\n",
    "         model= DistilBertForSequenceClassification.from_pretrained(\"../models/distilbert/weight_decay=0.5\"), \n",
    "         test_loader = val_loader,\n",
    "         n_classes = 3,\n",
    "        model_name = \"weight_decay = 0.5\")\n",
    "plot_roc(row = 0, col = 1,\n",
    "         data_class = 1,\n",
    "         model= DistilBertForSequenceClassification.from_pretrained(\"../models/distilbert/weight_decay=0.5\"), \n",
    "         test_loader = val_loader,\n",
    "         n_classes = 3,\n",
    "        model_name = \"weight_decay = 0.5\")\n",
    "plot_roc(row = 0, col = 2,\n",
    "         data_class = 2,\n",
    "         model= DistilBertForSequenceClassification.from_pretrained(\"../models/distilbert/weight_decay=0.5\"), \n",
    "         test_loader = val_loader,\n",
    "         n_classes = 3,\n",
    "        model_name = \"weight_decay = 0.5\")\n",
    "\n",
    "plot_roc(row = 1, col = 0,\n",
    "         data_class = 0,\n",
    "         model = DistilBertForSequenceClassification.from_pretrained(\"../models/distilbert/model_config\"), \n",
    "         test_loader = val_loader,\n",
    "         n_classes = 3,\n",
    "         model_name = \"overfit\")\n",
    "\n",
    "plot_roc(row = 1, col = 1,\n",
    "         data_class = 1,\n",
    "         model= DistilBertForSequenceClassification.from_pretrained(\"../models/distilbert/model_config\"), \n",
    "         test_loader = val_loader,\n",
    "         n_classes = 3,\n",
    "         model_name = \"overfit\")\n",
    "\n",
    "plot_roc(row = 1, col = 2,\n",
    "         data_class = 2,\n",
    "         model= DistilBertForSequenceClassification.from_pretrained(\"../models/distilbert/model_config\"), \n",
    "         test_loader = val_loader,\n",
    "         n_classes = 3,\n",
    "         model_name = \"overfit\")"
   ]
  }
 ],
 "metadata": {
  "kernelspec": {
   "display_name": "Python [conda env:sentiment-torch-gpu] *",
   "language": "python",
   "name": "conda-env-sentiment-torch-gpu-py"
  },
  "language_info": {
   "codemirror_mode": {
    "name": "ipython",
    "version": 3
   },
   "file_extension": ".py",
   "mimetype": "text/x-python",
   "name": "python",
   "nbconvert_exporter": "python",
   "pygments_lexer": "ipython3",
   "version": "3.8.5"
  }
 },
 "nbformat": 4,
 "nbformat_minor": 4
}
