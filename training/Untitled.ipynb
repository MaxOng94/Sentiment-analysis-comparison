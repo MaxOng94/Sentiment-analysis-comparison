{
 "cells": [
  {
   "cell_type": "code",
   "execution_count": 1,
   "id": "moral-statement",
   "metadata": {},
   "outputs": [],
   "source": [
    "from transformers import DistilBertTokenizerFast, Trainer, TrainingArguments, DistilBertForSequenceClassification \n"
   ]
  },
  {
   "cell_type": "code",
   "execution_count": 3,
   "id": "recreational-norman",
   "metadata": {},
   "outputs": [],
   "source": [
    "test_file = \"../data/label_data.txt\"\n",
    "train_file = \"../data/sst_labeled.csv\"\n",
    "LABEL_COL = \"class\"\n",
    "TEXT_COL = \"comment\"\n",
    "# unlabeled data\n",
    "unlabeled_data = \"../data/sst_unlabeled.csv\""
   ]
  },
  {
   "cell_type": "code",
   "execution_count": 1,
   "id": "built-comedy",
   "metadata": {},
   "outputs": [],
   "source": [
    "from transformer_utils import customDataset"
   ]
  },
  {
   "cell_type": "code",
   "execution_count": null,
   "id": "annual-mechanism",
   "metadata": {},
   "outputs": [],
   "source": [
    "model = DistilBertForSequenceClassification.from_pretrained(\"distilbert-base-uncased\",num_labels = 3)"
   ]
  }
 ],
 "metadata": {
  "kernelspec": {
   "display_name": "Python [conda env:sentiment-torch-gpu]",
   "language": "python",
   "name": "conda-env-sentiment-torch-gpu-py"
  },
  "language_info": {
   "codemirror_mode": {
    "name": "ipython",
    "version": 3
   },
   "file_extension": ".py",
   "mimetype": "text/x-python",
   "name": "python",
   "nbconvert_exporter": "python",
   "pygments_lexer": "ipython3",
   "version": "3.8.5"
  }
 },
 "nbformat": 4,
 "nbformat_minor": 5
}
